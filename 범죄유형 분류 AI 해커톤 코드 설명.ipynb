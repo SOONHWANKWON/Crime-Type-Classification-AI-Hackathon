{
 "cells": [
  {
   "cell_type": "markdown",
   "id": "1ef49a82-71e7-4f0a-8255-89bb676aa6e4",
   "metadata": {},
   "source": [
    "# 범죄 유형 분류 AI 해커톤 코드 설명"
   ]
  },
  {
   "cell_type": "code",
   "execution_count": null,
   "id": "c54bc680-21bc-4deb-904c-becec6767826",
   "metadata": {},
   "outputs": [],
   "source": [
    "import pandas as pd\n",
    "import numpy as np\n",
    "import random\n",
    "import os\n",
    "from sklearn.preprocessing import LabelEncoder\n",
    "from tensorflow.keras.utils import to_categorical\n",
    "from sklearn.model_selection import train_test_split\n",
    "import tensorflow as tf\n",
    "from tensorflow.keras.models import Sequential\n",
    "from tensorflow.keras.layers import Dense, Dropout, Input\n",
    "from tensorflow.keras import layers\n",
    "import matplotlib.pyplot as plt"
   ]
  },
  {
   "cell_type": "markdown",
   "id": "1cfe60dd-5b73-4b66-bc89-36a2fe627556",
   "metadata": {},
   "source": [
    "### Seed 고정"
   ]
  },
  {
   "cell_type": "code",
   "execution_count": null,
   "id": "ee9d9c27-eecf-4395-ba60-1312a0805357",
   "metadata": {},
   "outputs": [],
   "source": [
    "def seed_everything(seed):\n",
    "    random.seed(seed)\n",
    "    os.environ['PYTHONHASHSEED'] = str(seed)\n",
    "    np.random.seed(seed)\n",
    "\n",
    "seed_everything(42)"
   ]
  },
  {
   "cell_type": "markdown",
   "id": "9784d82d-c5c0-48f8-ae8b-5cdc4fac6468",
   "metadata": {},
   "source": [
    "### 파일 경로 설정"
   ]
  },
  {
   "cell_type": "code",
   "execution_count": null,
   "id": "cf11083f-b14a-467e-b720-812593412dd7",
   "metadata": {},
   "outputs": [],
   "source": [
    "train_file_path = r\"C:\\Users\\mytoo\\OneDrive\\바탕 화면\\범죄 예측\\train.csv\"\n",
    "test_file_path = r\"C:\\Users\\mytoo\\OneDrive\\바탕 화면\\범죄 예측\\test.csv\"\n",
    "sample_submission_file_path =  r\"C:\\Users\\mytoo\\OneDrive\\바탕 화면\\범죄 예측\\sample_submission.csv\"\n",
    "submission_output_path = r\"C:\\Users\\mytoo\\OneDrive\\바탕 화면\\범죄 예측\\my_submission.csv\""
   ]
  },
  {
   "cell_type": "markdown",
   "id": "c8b55118-df24-4a34-9ee7-4093c9d24bff",
   "metadata": {},
   "source": [
    "### 데이터 로드"
   ]
  },
  {
   "cell_type": "code",
   "execution_count": null,
   "id": "e9540cd1-7ac5-436d-90c2-68ee6f321a87",
   "metadata": {},
   "outputs": [],
   "source": [
    "train = pd.read_csv(train_file_path)\n",
    "test = pd.read_csv(test_file_path)\n",
    "sample_submission = pd.read_csv(sample_submission_file_path)\n",
    "\n",
    "train.info()"
   ]
  },
  {
   "cell_type": "markdown",
   "id": "067c9abc-9cf3-4ddb-943e-c2c0212fab99",
   "metadata": {},
   "source": [
    "### 데이터를 확인"
   ]
  },
  {
   "cell_type": "code",
   "execution_count": null,
   "id": "6d3b8104-73f3-4858-9e1b-0b1239666c9a",
   "metadata": {},
   "outputs": [],
   "source": [
    "train.head(5)"
   ]
  },
  {
   "cell_type": "markdown",
   "id": "af8dfc6e-7973-48ef-bda3-6c329a49f789",
   "metadata": {},
   "source": [
    "### 데이터 전처리와 이상치를 처리하기위해 몇 가지 주요 컬럼에 대한 히스토그램과 박스플롯 확인\n"
   ]
  },
  {
   "cell_type": "code",
   "execution_count": null,
   "id": "0f3f7622-b2cf-4c88-8819-7fadc227d9ad",
   "metadata": {},
   "outputs": [],
   "source": [
    "fig, axes = plt.subplots(1, 2, figsize=(10, 4))\n",
    "train['요일'].hist(bins=50, ax=axes[0])\n",
    "axes[0].set_title('Histogram')\n",
    "train['요일'].plot(kind='box', ax=axes[1])\n",
    "axes[1].set_title('Boxplot')\n",
    "plt.tight_layout()\n",
    "plt.show()\n",
    "\n",
    "fig, axes = plt.subplots(1, 2, figsize=(10, 4))\n",
    "train['범죄발생지'].hist(bins=50, ax=axes[0])\n",
    "axes[0].set_title('Histogram')\n",
    "train['범죄발생지'].plot(kind='box', ax=axes[1])\n",
    "axes[1].set_title('Boxplot')\n",
    "plt.tight_layout()\n",
    "plt.show()\n",
    "\n",
    "fig, axes = plt.subplots(1, 2, figsize=(10, 4))\n",
    "train['TARGET'].hist(bins=50, ax=axes[0])\n",
    "axes[0].set_title('Histogram')\n",
    "train['TARGET'].plot(kind='box', ax=axes[1])\n",
    "axes[1].set_title('Boxplot')\n",
    "plt.tight_layout()\n",
    "plt.show()"
   ]
  },
  {
   "cell_type": "markdown",
   "id": "739af066-4178-4bca-a4ea-b26a0180ee43",
   "metadata": {},
   "source": [
    "### 불필요한 열 제거"
   ]
  },
  {
   "cell_type": "code",
   "execution_count": null,
   "id": "39d5069a-93d7-4049-87e8-61a8b479cbc3",
   "metadata": {},
   "outputs": [],
   "source": [
    "if 'ID' in train.columns:\n",
    "    train = train.drop('ID', axis=1)\n",
    "if 'ID' in test.columns:\n",
    "    test = test.drop('ID', axis=1)"
   ]
  },
  {
   "cell_type": "markdown",
   "id": "f9e06f43-4f9a-4194-9fc8-be44e42c9c60",
   "metadata": {},
   "source": [
    "### 순서형 특성 인코딩"
   ]
  },
  {
   "cell_type": "code",
   "execution_count": null,
   "id": "12bd70f2-ec50-4356-b9b6-a262f1778202",
   "metadata": {},
   "outputs": [],
   "source": [
    "ordinal_features = ['요일', '범죄발생지']\n",
    "\n",
    "def vectorize_sequences(sequences, dimension=1000):\n",
    "    results = np.zeros((len(sequences), dimension))\n",
    "    for i, sequence in enumerate(sequences):\n",
    "        results[i, sequence] = 1.\n",
    "    return results\n",
    "\n",
    "for feature in ordinal_features:\n",
    "    unique_values = list(train[feature].unique())\n",
    "    train[feature] = train[feature].apply(lambda x: unique_values.index(x))\n",
    "    test[feature] = test[feature].apply(lambda x: unique_values.index(x) if x in unique_values else len(unique_values))"
   ]
  },
  {
   "cell_type": "markdown",
   "id": "4777f5a1-5096-405e-8cba-1035724e8ff8",
   "metadata": {},
   "source": [
    "### 타겟 변수 분리"
   ]
  },
  {
   "cell_type": "code",
   "execution_count": null,
   "id": "1ec05bd8-b2fa-4465-82b4-8c4aa89b2180",
   "metadata": {},
   "outputs": [],
   "source": [
    "y_train = train['TARGET']\n",
    "X_train = train.drop('TARGET', axis=1)"
   ]
  },
  {
   "cell_type": "markdown",
   "id": "aaf1846a-255d-424e-adda-88d73ee13f0f",
   "metadata": {},
   "source": [
    "### to_one_hot 함수 정의"
   ]
  },
  {
   "cell_type": "code",
   "execution_count": null,
   "id": "2daedd5f-3e99-419c-b013-4b9909246f7e",
   "metadata": {},
   "outputs": [],
   "source": [
    "def to_one_hot(labels, dimension=46):\n",
    "    results = np.zeros((len(labels), dimension))\n",
    "    for i, label in enumerate(labels):\n",
    "        results[i, label] = 1.\n",
    "    return results"
   ]
  },
  {
   "cell_type": "markdown",
   "id": "ad68c812-fe33-4ddc-8783-d99f57565b9f",
   "metadata": {},
   "source": [
    "### 레이블 인코딩 -> 원-핫 인코딩으로 변경"
   ]
  },
  {
   "cell_type": "code",
   "execution_count": null,
   "id": "eb7a73fa-13d8-4d0d-9252-00ee8309f554",
   "metadata": {},
   "outputs": [],
   "source": [
    "y_train_one_hot = to_one_hot(y_train, dimension=y_train.nunique())"
   ]
  },
  {
   "cell_type": "markdown",
   "id": "c573f7d0-3df5-4a68-83ae-08ce446ef99b",
   "metadata": {},
   "source": [
    "### 데이터 표준화"
   ]
  },
  {
   "cell_type": "code",
   "execution_count": null,
   "id": "981b84af-d822-4f2c-847b-c5f37c4b9a1e",
   "metadata": {},
   "outputs": [],
   "source": [
    "mean = X_train.mean(axis=0)\n",
    "std = X_train.std(axis=0)\n",
    "\n",
    "X_train = (X_train - mean) / std\n",
    "X_test = (test - mean) / std"
   ]
  },
  {
   "cell_type": "markdown",
   "id": "d9bbc1bc-1e0d-40e4-a714-fb6dbf4c61c1",
   "metadata": {},
   "source": [
    "### 학습 데이터와 검증 데이터 분리"
   ]
  },
  {
   "cell_type": "code",
   "execution_count": null,
   "id": "1b5edced-8f94-4484-9a0b-81202e36bafe",
   "metadata": {},
   "outputs": [],
   "source": [
    "X_train_split, X_val_split, y_train_split, y_val_split = train_test_split(X_train, y_train_one_hot, test_size=0.2, random_state=42)"
   ]
  },
  {
   "cell_type": "markdown",
   "id": "aa9a3419-e8c3-47cf-bcb3-6d384c511dd9",
   "metadata": {},
   "source": [
    "### MLP 모델 설계"
   ]
  },
  {
   "cell_type": "code",
   "execution_count": null,
   "id": "c6181954-c587-4f36-8999-d984b5104d0c",
   "metadata": {},
   "outputs": [],
   "source": [
    "model = Sequential([\n",
    "    Input(shape=(X_train.shape[1],)),\n",
    "    layers.Dense(128, activation='relu'),\n",
    "    layers.Dense(64, activation='relu'),\n",
    "    layers.Dense(y_train_one_hot.shape[1], activation='softmax')\n",
    "])"
   ]
  },
  {
   "cell_type": "markdown",
   "id": "e2c77392-e454-4b8a-859e-cb569166a873",
   "metadata": {},
   "source": [
    "### 모델 컴파일"
   ]
  },
  {
   "cell_type": "code",
   "execution_count": null,
   "id": "35f0da57-2fe3-4f7d-9f31-2b8ebe5fdf1b",
   "metadata": {},
   "outputs": [],
   "source": [
    "model.compile(optimizer='rmsprop',\n",
    "              loss='categorical_crossentropy',\n",
    "              metrics=['accuracy'])"
   ]
  },
  {
   "cell_type": "markdown",
   "id": "87f2a350-7491-4c0e-9d8f-6ad6b80b726b",
   "metadata": {},
   "source": [
    "### 모델 학습"
   ]
  },
  {
   "cell_type": "code",
   "execution_count": null,
   "id": "08c62333-8c68-448d-865e-478be0ab8e8b",
   "metadata": {},
   "outputs": [],
   "source": [
    "history = model.fit(X_train_split,\n",
    "                    y_train_split,\n",
    "                    epochs=30,\n",
    "                    batch_size=50,\n",
    "                    validation_data=(X_val_split, y_val_split))"
   ]
  },
  {
   "cell_type": "markdown",
   "id": "d68e138a-a211-4341-b312-b028d9a6e057",
   "metadata": {},
   "source": [
    "### 훈련과 검증 손실 그래프 확인"
   ]
  },
  {
   "cell_type": "code",
   "execution_count": null,
   "id": "3b5c1cd9-4b9b-423b-bea1-4a9c21726bb4",
   "metadata": {},
   "outputs": [],
   "source": [
    "plt.figure(figsize=(12, 8))\n",
    "plt.plot(history.history['loss'], label='Train Loss')\n",
    "plt.plot(history.history['val_loss'], marker='o', label='Validation Loss')\n",
    "plt.xlabel('Epochs')\n",
    "plt.ylabel('Loss')\n",
    "plt.title('Training and Validation Loss')\n",
    "plt.legend()\n",
    "plt.show()\n",
    "\n",
    "plt.figure(figsize=(12, 8))\n",
    "plt.plot(history.history['accuracy'], label='Train Accuracy')\n",
    "plt.plot(history.history['val_accuracy'], marker='o', label='Validation Accuracy')\n",
    "plt.xlabel('Epochs')\n",
    "plt.ylabel('Accuracy')\n",
    "plt.title('Training and Validation Accuracy')\n",
    "plt.legend()\n",
    "plt.show()"
   ]
  },
  {
   "cell_type": "markdown",
   "id": "3c838384-65d6-46db-9aad-4cda835dd97a",
   "metadata": {},
   "source": [
    "### 모델을 처음부터 다시 시작하기\n"
   ]
  },
  {
   "cell_type": "code",
   "execution_count": null,
   "id": "567dc98b-9f33-4a6d-aabb-edacfb72663d",
   "metadata": {},
   "outputs": [],
   "source": [
    "model = Sequential([\n",
    "    Input(shape=(X_train.shape[1],)),\n",
    "    layers.Dense(128, activation='relu'),\n",
    "    layers.Dense(64, activation='relu'),\n",
    "    layers.Dense(y_train_one_hot.shape[1], activation='softmax')\n",
    "])\n",
    "\n",
    "del.compile(optimizer='rmsprop',\n",
    "              loss='categorical_crossentropy',\n",
    "              metrics=['accuracy'])\n",
    "\n",
    "history = model.fit(X_train_split,\n",
    "                    y_train_split,\n",
    "                    epochs=15,\n",
    "                    batch_size=50,\n",
    "                    validation_data=(X_val_split, y_val_split))\n",
    "\n",
    "val_loss, val_accuracy = model.evaluate(X_val_split, y_val_split)"
   ]
  },
  {
   "cell_type": "markdown",
   "id": "dab1f955-16a7-41ed-ad65-9654756b11a5",
   "metadata": {},
   "source": [
    "### 예측 수행"
   ]
  },
  {
   "cell_type": "code",
   "execution_count": null,
   "id": "facab264-34b3-409c-b0c9-8f882f4e5318",
   "metadata": {},
   "outputs": [],
   "source": [
    "predictions = model.predict(X_test)\n",
    "predicted_classes = predictions.argmax(axis=1)"
   ]
  },
  {
   "cell_type": "markdown",
   "id": "aad756ba-2f7c-48d8-91ad-2a4212304bea",
   "metadata": {},
   "source": [
    "### 제출 파일 생성"
   ]
  },
  {
   "cell_type": "code",
   "execution_count": null,
   "id": "d63dd65a-742f-4619-8e52-995202677fee",
   "metadata": {},
   "outputs": [],
   "source": [
    "submission = pd.read_csv(sample_submission_file_path)\n",
    "submission['TARGET'] = predicted_classes\n",
    "submission.to_csv(submission_output_path, index=False)"
   ]
  }
 ],
 "metadata": {
  "kernelspec": {
   "display_name": "Python 3 (ipykernel)",
   "language": "python",
   "name": "python3"
  },
  "language_info": {
   "codemirror_mode": {
    "name": "ipython",
    "version": 3
   },
   "file_extension": ".py",
   "mimetype": "text/x-python",
   "name": "python",
   "nbconvert_exporter": "python",
   "pygments_lexer": "ipython3",
   "version": "3.12.4"
  }
 },
 "nbformat": 4,
 "nbformat_minor": 5
}
